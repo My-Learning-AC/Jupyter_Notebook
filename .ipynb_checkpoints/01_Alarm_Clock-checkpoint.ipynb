{
 "cells": [
  {
   "cell_type": "code",
   "execution_count": 4,
   "id": "402ce363-d637-4629-b9f3-777f25eab479",
   "metadata": {},
   "outputs": [
    {
     "name": "stdin",
     "output_type": "stream",
     "text": [
      "Enter the Date =  01/01/2025\n",
      "Enter the Time =  19:03:00\n"
     ]
    }
   ],
   "source": [
    "import os\n",
    "import datetime\n",
    "import time\n",
    "\n",
    "c,b,a=input(\"Enter the Date = \").split(\"/\")\n",
    "hr,minn,sec=input(\"Enter the Time = \").split(\":\")\n",
    "\n",
    "#alarm_date = \"01/01/2025\"\n",
    "#alarm_time = \"19:01:00\"\n",
    "\n",
    "#c,b,a = alarm_date.split(\"/\")\n",
    "#hr,minn,sec = alarm_time.split(\":\")\n",
    "shedule_date = datetime.date(int(a),int(b),int(c))\n",
    "\n",
    "n=1\n",
    "while n>0:\n",
    "  if time.localtime().tm_hour==int(hr) and time.localtime().tm_min==int(minn) and time.localtime().tm_sec==int(sec) and datetime.date.today()==shedule_date:\n",
    "    os.startfile('C:\\\\Users\\\\KumarDharani\\\\Desktop\\\\Shyama Aan Baso.mp3')\n",
    "    break\n",
    "  else:\n",
    "    n+=1"
   ]
  },
  {
   "cell_type": "code",
   "execution_count": null,
   "id": "9f5642cd-e872-4c49-b46d-a93381e4a620",
   "metadata": {},
   "outputs": [],
   "source": []
  }
 ],
 "metadata": {
  "kernelspec": {
   "display_name": "Python 3 (ipykernel)",
   "language": "python",
   "name": "python3"
  },
  "language_info": {
   "codemirror_mode": {
    "name": "ipython",
    "version": 3
   },
   "file_extension": ".py",
   "mimetype": "text/x-python",
   "name": "python",
   "nbconvert_exporter": "python",
   "pygments_lexer": "ipython3",
   "version": "3.12.6"
  }
 },
 "nbformat": 4,
 "nbformat_minor": 5
}
