{
 "cells": [
  {
   "cell_type": "code",
   "execution_count": 17,
   "id": "c437df4f-7b24-4387-912b-d0bfe184be34",
   "metadata": {},
   "outputs": [],
   "source": [
    "import cv2"
   ]
  },
  {
   "cell_type": "code",
   "execution_count": 18,
   "id": "b09222b5-cb45-41f8-b0c9-81dd32838a22",
   "metadata": {},
   "outputs": [
    {
     "data": {
      "text/plain": [
       "5529.0"
      ]
     },
     "execution_count": 18,
     "metadata": {},
     "output_type": "execute_result"
    }
   ],
   "source": [
    "cap = cv2.VideoCapture(\"C:\\\\Users\\\\KumarDharani\\\\Desktop\\\\Adiyogi.mp4\")\n",
    "total = cap.get(7)\n",
    "total        # total = total number of frames in the video "
   ]
  },
  {
   "cell_type": "code",
   "execution_count": 25,
   "id": "fe799327-6a35-4e8c-b553-87f92414ecd8",
   "metadata": {},
   "outputs": [
    {
     "data": {
      "text/plain": [
       "True"
      ]
     },
     "execution_count": 25,
     "metadata": {},
     "output_type": "execute_result"
    }
   ],
   "source": [
    "cap.set(1,3850)       # 3850 = ((time (in second)) * 25 FPS)\n",
    "ret,frame = cap.read()\n",
    "cv2.imwrite('Shiva'+'.jpg',frame)    # See the image in the jupyter notebook directory"
   ]
  },
  {
   "cell_type": "code",
   "execution_count": null,
   "id": "cbd3bdb3-d9d9-42c6-a3e5-941cc286cc5b",
   "metadata": {},
   "outputs": [],
   "source": []
  }
 ],
 "metadata": {
  "kernelspec": {
   "display_name": "Python 3 (ipykernel)",
   "language": "python",
   "name": "python3"
  },
  "language_info": {
   "codemirror_mode": {
    "name": "ipython",
    "version": 3
   },
   "file_extension": ".py",
   "mimetype": "text/x-python",
   "name": "python",
   "nbconvert_exporter": "python",
   "pygments_lexer": "ipython3",
   "version": "3.12.6"
  }
 },
 "nbformat": 4,
 "nbformat_minor": 5
}
