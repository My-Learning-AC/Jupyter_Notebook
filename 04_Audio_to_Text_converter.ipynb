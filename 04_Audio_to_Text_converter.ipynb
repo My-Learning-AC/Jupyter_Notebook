{
 "cells": [
  {
   "cell_type": "code",
   "execution_count": 7,
   "id": "0877985f-d185-41eb-98f8-a77ca65abe57",
   "metadata": {},
   "outputs": [
    {
     "name": "stdout",
     "output_type": "stream",
     "text": [
      "Recording.....\n",
      "hello how are you I am fine good\n"
     ]
    }
   ],
   "source": [
    "import speech_recognition as sr\n",
    "r=sr.Recognizer()\n",
    "with sr.Microphone() as source:\n",
    "    print(\"Recording.....\")\n",
    "    audio1 = r.record(source, duration=5)\n",
    "    query1 = r.recognize_google(audio1)\n",
    "    #query1 = query1.lower()\n",
    "    print(query1)"
   ]
  },
  {
   "cell_type": "code",
   "execution_count": null,
   "id": "f8009ee1-5eac-47e6-b4d6-d5c0d5842f1d",
   "metadata": {},
   "outputs": [],
   "source": []
  }
 ],
 "metadata": {
  "kernelspec": {
   "display_name": "Python 3 (ipykernel)",
   "language": "python",
   "name": "python3"
  },
  "language_info": {
   "codemirror_mode": {
    "name": "ipython",
    "version": 3
   },
   "file_extension": ".py",
   "mimetype": "text/x-python",
   "name": "python",
   "nbconvert_exporter": "python",
   "pygments_lexer": "ipython3",
   "version": "3.12.6"
  }
 },
 "nbformat": 4,
 "nbformat_minor": 5
}
