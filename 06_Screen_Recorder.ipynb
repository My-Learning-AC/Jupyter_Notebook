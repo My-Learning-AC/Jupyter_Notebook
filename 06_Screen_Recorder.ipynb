{
 "cells": [
  {
   "cell_type": "code",
   "execution_count": 1,
   "id": "aa931d50-a57b-4ffe-81d7-71dffbc9002d",
   "metadata": {},
   "outputs": [],
   "source": [
    "import numpy as np\n",
    "import cv2\n",
    "import pyautogui as image\n",
    "\n",
    "fourcc = cv2.VideoWriter_fourcc(*\"XVID\")\n",
    "out = cv2.VideoWriter(\"C:\\\\Users\\\\KumarDharani\\\\Documents\\\\Jupyter Notebook\\\\video.mp4\",fourcc,60.0,(1366,768))      # 60.0 = 60 fps, (1366,768) = screen resolution\n",
    "\n",
    "while True:\n",
    "    img = image.screenshot()\n",
    "    img_np_array = np.array(img)\n",
    "    \n",
    "    frame = cv2.cvtColor(img_np_array,cv2.COLOR_BGR2RGB)\n",
    "    \n",
    "    cv2.imshow(\"Recording Window\", frame)\n",
    "    out.write(frame)\n",
    "    if cv2.waitKey(1)==27:     # 27 = esc button on keyboard\n",
    "        break\n",
    "out.release()"
   ]
  },
  {
   "cell_type": "code",
   "execution_count": null,
   "id": "c419bbcd-eba9-4c0b-8cd6-388ec06eb7d3",
   "metadata": {},
   "outputs": [],
   "source": []
  }
 ],
 "metadata": {
  "kernelspec": {
   "display_name": "Python 3 (ipykernel)",
   "language": "python",
   "name": "python3"
  },
  "language_info": {
   "codemirror_mode": {
    "name": "ipython",
    "version": 3
   },
   "file_extension": ".py",
   "mimetype": "text/x-python",
   "name": "python",
   "nbconvert_exporter": "python",
   "pygments_lexer": "ipython3",
   "version": "3.12.6"
  }
 },
 "nbformat": 4,
 "nbformat_minor": 5
}
