{
 "cells": [
  {
   "cell_type": "code",
   "execution_count": 3,
   "id": "c7eb1a99-2334-4ace-bc70-98365f4e2052",
   "metadata": {},
   "outputs": [
    {
     "name": "stdout",
     "output_type": "stream",
     "text": [
      "Recording.....\n",
      "Recording Successful\n"
     ]
    }
   ],
   "source": [
    "import sounddevice\n",
    "from scipy.io.wavfile import write\n",
    "fs = 44100       # standard voice frequency (sample_rate)\n",
    "second = 10\n",
    "print(\"Recording.....\")\n",
    "recorded_voice = sounddevice.rec(int(second * fs), samplerate=fs, channels=2)\n",
    "sounddevice.wait()\n",
    "write(\"C:\\\\Users\\\\KumarDharani\\\\Documents\\\\Jupyter Notebook\\\\Recording.wav\", fs, recorded_voice)\n",
    "print(\"Recording Successful\")"
   ]
  },
  {
   "cell_type": "code",
   "execution_count": null,
   "id": "8fe667b4-8b7d-46c4-bc9d-b52c8f133451",
   "metadata": {},
   "outputs": [],
   "source": []
  }
 ],
 "metadata": {
  "kernelspec": {
   "display_name": "Python 3 (ipykernel)",
   "language": "python",
   "name": "python3"
  },
  "language_info": {
   "codemirror_mode": {
    "name": "ipython",
    "version": 3
   },
   "file_extension": ".py",
   "mimetype": "text/x-python",
   "name": "python",
   "nbconvert_exporter": "python",
   "pygments_lexer": "ipython3",
   "version": "3.12.6"
  }
 },
 "nbformat": 4,
 "nbformat_minor": 5
}
