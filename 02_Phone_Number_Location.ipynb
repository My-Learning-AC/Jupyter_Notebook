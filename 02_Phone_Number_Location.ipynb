{
 "cells": [
  {
   "cell_type": "code",
   "execution_count": 9,
   "id": "65764b3c-d4da-4b00-9a9e-315d32589548",
   "metadata": {},
   "outputs": [
    {
     "data": {
      "text/plain": [
       "'India'"
      ]
     },
     "execution_count": 9,
     "metadata": {},
     "output_type": "execute_result"
    }
   ],
   "source": [
    "import phonenumbers\n",
    "from phonenumbers import geocoder\n",
    "\n",
    "mobile_number = \"+919064629589\"\n",
    "\n",
    "number = phonenumbers.parse(mobile_number,\"CH\")\n",
    "geocoder.description_for_number(number,\"en\")"
   ]
  },
  {
   "cell_type": "code",
   "execution_count": 10,
   "id": "e7c8533e-d9b3-41e3-84c8-f9df938ced02",
   "metadata": {},
   "outputs": [
    {
     "data": {
      "text/plain": [
       "'Reliance Jio'"
      ]
     },
     "execution_count": 10,
     "metadata": {},
     "output_type": "execute_result"
    }
   ],
   "source": [
    "from phonenumbers import carrier\n",
    "ro_number = phonenumbers.parse(mobile_number,\"RO\")\n",
    "carrier.name_for_number(ro_number,\"en\")"
   ]
  },
  {
   "cell_type": "code",
   "execution_count": null,
   "id": "4e0c1cd7-95d4-4af6-ade2-bc4b577528da",
   "metadata": {},
   "outputs": [],
   "source": []
  }
 ],
 "metadata": {
  "kernelspec": {
   "display_name": "Python 3 (ipykernel)",
   "language": "python",
   "name": "python3"
  },
  "language_info": {
   "codemirror_mode": {
    "name": "ipython",
    "version": 3
   },
   "file_extension": ".py",
   "mimetype": "text/x-python",
   "name": "python",
   "nbconvert_exporter": "python",
   "pygments_lexer": "ipython3",
   "version": "3.12.6"
  }
 },
 "nbformat": 4,
 "nbformat_minor": 5
}
